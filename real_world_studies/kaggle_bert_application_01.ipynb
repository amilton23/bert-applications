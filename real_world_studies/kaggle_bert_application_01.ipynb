{
 "cells": [
  {
   "cell_type": "markdown",
   "metadata": {},
   "source": [
    "# Kaggle Project: Suicide and Depression Detection\n",
    "\n",
    "**Objective:**\n",
    "\n",
    "To create a text classifier to detect suicidal intentions on social media.\n",
    "\n",
    "\n",
    "**Dataset details:**\n",
    "\n",
    "The dataset is a collection of posts from the \"SuicideWatch\" and \"depression\" subreddits of the Reddit platform. The posts are collected using Pushshift API. All posts that were made to \"SuicideWatch\" from Dec 16, 2008(creation) till Jan 2, 2021, were collected while \"depression\" posts were collected from Jan 1, 2009, to Jan 2, 2021. All posts collected from SuicideWatch are labeled as suicide, While posts collected from the depression subreddit are labeled as depression. Non-suicide posts are collected from r/teenagers.\n",
    "\n",
    "\n",
    "**Kaggle source project:**\n",
    "- https://www.kaggle.com/datasets/nikhileswarkomati/suicide-watch"
   ]
  },
  {
   "cell_type": "markdown",
   "metadata": {},
   "source": [
    "## Imports"
   ]
  },
  {
   "cell_type": "code",
   "execution_count": null,
   "metadata": {},
   "outputs": [],
   "source": [
    "from libraries.models.bert_app import BERTHuggingFaceClassification\n",
    "from libraries.utils.statistics import (\n",
    "    print_classification_metrics,\n",
    "    print_auc_and_plot_precision_recall,\n",
    "    df_downsample,\n",
    "    confidence_sample_size,\n",
    "    interest_proportion\n",
    ")\n",
    "from libraries.utils.dataviz import(\n",
    "    plot_roc_curve,\n",
    "    model_evaluation_cm,\n",
    "    barplot_series,\n",
    "    evalmetrics_multicategory\n",
    ")"
   ]
  },
  {
   "cell_type": "markdown",
   "metadata": {},
   "source": [
    "## Loading dataset"
   ]
  },
  {
   "cell_type": "code",
   "execution_count": null,
   "metadata": {},
   "outputs": [],
   "source": []
  },
  {
   "cell_type": "markdown",
   "metadata": {},
   "source": [
    "## Model Training"
   ]
  },
  {
   "cell_type": "markdown",
   "metadata": {},
   "source": []
  },
  {
   "cell_type": "markdown",
   "metadata": {},
   "source": [
    "## Model testing"
   ]
  },
  {
   "cell_type": "code",
   "execution_count": null,
   "metadata": {},
   "outputs": [],
   "source": []
  }
 ],
 "metadata": {
  "language_info": {
   "name": "python"
  }
 },
 "nbformat": 4,
 "nbformat_minor": 2
}
